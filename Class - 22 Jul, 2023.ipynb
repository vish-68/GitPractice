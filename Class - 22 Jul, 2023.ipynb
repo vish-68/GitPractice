{
 "cells": [
  {
   "cell_type": "markdown",
   "metadata": {},
   "source": [
    "<!-- To see from which repository we are using -->\n",
    "git remote -v\n",
    "\n",
    "<!-- if we need to remove it from origin -->\n",
    "git remote rm orgin\n",
    "\n",
    "<!-- file status -->\n",
    "git add README.md\n",
    "u - untrack\n",
    "a - added\n",
    "m - modified (If we modify file once it is added in git)\n",
    "\n",
    "<!-- how to see the status of file -->\n",
    "git status\n",
    "\n",
    "<!-- if we need to remove the file -->\n",
    "git rm --cached README.md\n",
    "\n",
    "<!-- moving file in staging envirenment / need to push this file in github repository -->\n",
    "git commit -m \"this is my firsst commit\"\n",
    "\n",
    "<!-- configuration -->\n",
    "git config --global user.name “Vishal Upare”\n",
    "\n",
    "git config --global user.email “vishal.upare6899@gmail.com”\n",
    "\n",
    "<!-- change branch -->\n",
    "git branch\n",
    "\n",
    "git branch -M main\n",
    "\n",
    "git remote add origin https://github.com/vish-68/GitPractice.git\n",
    "\n",
    "git remote -v\n",
    "\n",
    "git push origin main\n",
    "\n",
    "\n"
   ]
  }
 ],
 "metadata": {
  "language_info": {
   "name": "python"
  },
  "orig_nbformat": 4
 },
 "nbformat": 4,
 "nbformat_minor": 2
}
